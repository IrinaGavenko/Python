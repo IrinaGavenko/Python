{
 "cells": [
  {
   "cell_type": "markdown",
   "metadata": {},
   "source": [
    "Чтение и преобразование данных:"
   ]
  },
  {
   "cell_type": "code",
   "execution_count": 74,
   "metadata": {
    "collapsed": false
   },
   "outputs": [],
   "source": [
    "from math import sqrt\n",
    "import numpy as np\n",
    "import pandas\n",
    "import csv\n",
    "%matplotlib inline\n",
    "\n",
    "def read_file(filename):\n",
    "    with open(filename, 'r') as file:\n",
    "        lines = list(csv.reader(file))\n",
    "    return lines\n",
    "\n",
    "fires = read_file('forestfires.csv')\n",
    "\n",
    "for fire in fires:\n",
    "    # удаляем дату\n",
    "    fire.pop(3)\n",
    "    # добавляем столбец свободных членов\n",
    "    fire.append(1.0)\n",
    "\n",
    "# убираем строку с названиями столбцов\n",
    "headings = fires[0]\n",
    "fires = fires[1:]\n",
    "# изменяем столбец с названиями месяцов\n",
    "# на индикатор летнего сезона\n",
    "for i in range(len(fires)):\n",
    "    fires[i][2] = 1.0 if fires[i][2] in ['jun', 'jul', 'aug'] else 0.0\n",
    "    fires[i] = [float(number) for number in fires[i]]\n",
    "\n",
    "# перемешиваем выборку\n",
    "random.shuffle(fires)"
   ]
  },
  {
   "cell_type": "markdown",
   "metadata": {
    "collapsed": true
   },
   "source": [
    "Функции:\n",
    "* работаем с преобразованной функцией\n",
    "* работаем с исходными значениями, применив обратное преобразование\n",
    "* считаем среднеквадратичную ошибку"
   ]
  },
  {
   "cell_type": "code",
   "execution_count": 75,
   "metadata": {
    "collapsed": false
   },
   "outputs": [
    {
     "name": "stdout",
     "output_type": "stream",
     "text": [
      "Преобразованных ln(1 + x): 0.6581\n",
      "Исходных к ln(1 + x): 27.2382\n",
      "\n",
      "\n",
      "Преобразованных ln(11 + x): 0.0446\n",
      "Исходных к ln(11 + x): 26.9232\n",
      "\n",
      "\n",
      "Преобразованных ln(21 + x): 0.0191\n",
      "Исходных к ln(21 + x): 26.9733\n",
      "\n",
      "\n",
      "Преобразованных ln(31 + x): 0.0110\n",
      "Исходных к ln(31 + x): 27.0646\n",
      "\n",
      "\n",
      "Преобразованных ln(41 + x): 0.0073\n",
      "Исходных к ln(41 + x): 27.1655\n",
      "\n",
      "\n",
      "Преобразованных ln(51 + x): 0.0052\n",
      "Исходных к ln(51 + x): 27.2674\n",
      "\n",
      "\n",
      "Преобразованных ln(61 + x): 0.0040\n",
      "Исходных к ln(61 + x): 27.3674\n",
      "\n",
      "\n",
      "Преобразованных ln(71 + x): 0.0031\n",
      "Исходных к ln(71 + x): 27.4643\n",
      "\n",
      "\n",
      "Преобразованных ln(81 + x): 0.0025\n",
      "Исходных к ln(81 + x): 27.5577\n",
      "\n",
      "\n",
      "Преобразованных ln(91 + x): 0.0021\n",
      "Исходных к ln(91 + x): 27.6476\n",
      "\n",
      "\n"
     ]
    }
   ],
   "source": [
    "def change(c):\n",
    "    # разбиваем выборку на две части\n",
    "    learn = fires[:(len(fires) * 7 // 10)]\n",
    "    # столбец [:-2] - \"area\"\n",
    "    z_learn = np.matrix([fire[:-2] + fire[-1:] for fire in learn])\n",
    "    # преобразуем данные и транспонируем матрицу\n",
    "    x_learn = np.matrix([np.log(c + fire[-2]) for fire in learn]).transpose()\n",
    "    # считаем для нее обратную ..., получаем параметр\n",
    "    theta_ls = np.linalg.inv(\n",
    "        z_learn.transpose() * z_learn) * z_learn.transpose() * x_learn\n",
    "    \n",
    "    # то же самое для тестовой выборки\n",
    "    test = fires[(len(fires) * 7 // 10):]\n",
    "    z_test = np.matrix([fire[:-2] + fire[-1:] for fire in test])\n",
    "    x_test = np.matrix([np.log(c + fire[-2]) for fire in test]).transpose()\n",
    "    result = z_test * theta_ls\n",
    "    \n",
    "    # считаем среднеквадратичную ошибку\n",
    "    return sqrt(np.mean(np.array(\n",
    "            (np.log(c +  result) - np.log(c + x_test)).transpose()[0]) ** 2))\n",
    "\n",
    "# аналогично\n",
    "def reverse(c):\n",
    "    learn = fires[:(len(fires) * 7 // 10)]\n",
    "    z_learn = np.matrix([fire[:-2] + fire[-1:] for fire in learn]) # [-2] - area\n",
    "    x_learn = np.matrix([np.log(c + fire[-2]) for fire in learn]).transpose()\n",
    "    theta_ls = np.linalg.inv(\n",
    "        z_learn.transpose() * z_learn) * z_learn.transpose() * x_learn\n",
    "    \n",
    "    test = fires[(len(fires) * 7 // 10):]\n",
    "    z_test = np.matrix([fire[:-2] + fire[-1:] for fire in test])\n",
    "    x_test = np.matrix([np.log(c + fire[-2]) for fire in test]).transpose()\n",
    "    result = z_test * theta_ls\n",
    "\n",
    "    return sqrt(np.mean(np.array(\n",
    "            ((np.exp(result) - c) - (np.exp(x_test) - c)).transpose()[0]) ** 2))\n",
    "\n",
    "for c in range(1, 100, 10):\n",
    "    print(\"Преобразованных ln(\" + str(c) + \" + x):\", \"%.4f\" % change(c))\n",
    "    print(\"Исходных к ln(\" + str(c) + \" + x):\", \"%.4f\" % reverse(c))\n",
    "    print(\"\\n\")"
   ]
  },
  {
   "cell_type": "markdown",
   "metadata": {},
   "source": [
    "В любом случае ошибка очень велика. Найдем константу, при котором достигается минимальное среднеквадратичное отклонение."
   ]
  },
  {
   "cell_type": "code",
   "execution_count": 76,
   "metadata": {
    "collapsed": false
   },
   "outputs": [
    {
     "name": "stdout",
     "output_type": "stream",
     "text": [
      "c = 98.8\n"
     ]
    }
   ],
   "source": [
    "# строим массив из отклонений при различных параметрах\n",
    "find_const = [normal(c) for c in np.arange(0.1, 100, 0.1)]\n",
    "# находим его минимум\n",
    "best_const = np.argmin(find_const) / 10 - 1\n",
    "print(\"c = \" + str(best_const))"
   ]
  },
  {
   "cell_type": "markdown",
   "metadata": {
    "collapsed": false
   },
   "source": [
    "Проверим зависимость от способа разбиения выборки:"
   ]
  },
  {
   "cell_type": "code",
   "execution_count": 77,
   "metadata": {
    "collapsed": false
   },
   "outputs": [
    {
     "name": "stdout",
     "output_type": "stream",
     "text": [
      "2.33081012605e-83\n",
      "1.20161785931e-82\n",
      "1.23520450286e-82\n",
      "6.35909325867e-83\n",
      "6.23391398674e-83\n",
      "1.22452985049e-82\n",
      "1.90146175187e-82\n",
      "2.9473440493e-83\n",
      "7.21033937855e-83\n",
      "7.72485701105e-83\n"
     ]
    }
   ],
   "source": [
    "for i in range(10):\n",
    "    # перемешиваем выборку\n",
    "    random.shuffle(fires)\n",
    "    # считаем отклонение\n",
    "    print(normal(best_const))"
   ]
  },
  {
   "cell_type": "markdown",
   "metadata": {
    "collapsed": false
   },
   "source": [
    "Среднеквадратичное отклонение очень сильно зависит от способа разбиения. Так что линейная регрессия работает весьма плохо."
   ]
  },
  {
   "cell_type": "code",
   "execution_count": null,
   "metadata": {
    "collapsed": true
   },
   "outputs": [],
   "source": []
  }
 ],
 "metadata": {
  "kernelspec": {
   "display_name": "Python 3",
   "language": "python",
   "name": "python3"
  },
  "language_info": {
   "codemirror_mode": {
    "name": "ipython",
    "version": 3
   },
   "file_extension": ".py",
   "mimetype": "text/x-python",
   "name": "python",
   "nbconvert_exporter": "python",
   "pygments_lexer": "ipython3",
   "version": "3.5.1"
  }
 },
 "nbformat": 4,
 "nbformat_minor": 0
}
