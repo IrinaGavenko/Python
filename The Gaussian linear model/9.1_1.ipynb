{
 "cells": [
  {
   "cell_type": "markdown",
   "metadata": {
    "collapsed": false
   },
   "source": [
    "Для начала преобразуем данные, как предложено в условии: \n",
    "* удалим столбец 'day'\n",
    "* заменим данные в столбце 'month' на индикатор летнего сезона\n",
    "* добавим столбец из единиц"
   ]
  },
  {
   "cell_type": "code",
   "execution_count": 34,
   "metadata": {
    "collapsed": false
   },
   "outputs": [],
   "source": [
    "from sklearn.linear_model import LinearRegression as LR\n",
    "from sklearn.metrics import mean_squared_error as score\n",
    "from sklearn.cross_validation import train_test_split\n",
    "from math import exp\n",
    "import numpy as nmp\n",
    "import pandas\n",
    "\n",
    "# читаем данные\n",
    "data = pandas.read_csv('forestfires.csv')\n",
    "# удаляем столбец 'day'\n",
    "data = data.drop('day', axis=1)\n",
    "# преобразуем столбец 'month'\n",
    "data['month'] = data['month'].map(lambda x: 1 if x == 'jun' or x == 'jul' or x == 'aug' else 0)\n",
    "\n",
    "# создаем массив из прочитанных данных, без поля 'area'\n",
    "X = nmp.array(data.drop('area', axis=1))\n",
    "# добавляем в этот массив столбец из единиц\n",
    "X = nmp.hstack((X, nmp.ones((len(X), 1))))\n",
    "# выделяем отдельно столбец 'area'\n",
    "Y = nmp.array(data['area'])"
   ]
  },
  {
   "cell_type": "markdown",
   "metadata": {
    "collapsed": true
   },
   "source": [
    "Перейдем к обработке данных: \n",
    "* разделим все данные на основную и тестовую выборки\n",
    "* обучим выборку\n",
    "* применяем к тестовой выборке\n",
    "* считаем среднеквдратичную ошибку"
   ]
  },
  {
   "cell_type": "code",
   "execution_count": 35,
   "metadata": {
    "collapsed": false
   },
   "outputs": [
    {
     "name": "stdout",
     "output_type": "stream",
     "text": [
      "Accuracy without f(x): 7887.2473386\n"
     ]
    }
   ],
   "source": [
    "# делим весь массив на основную и тестовую выборку в отношении 7:3\n",
    "X_train, X_test, Y_train, Y_test = train_test_split(X, Y, test_size = 0.3)\n",
    "\n",
    "# функция будет строить прямую,\n",
    "# минимизируя сумму квадратов отклонения от данной прямой\n",
    "clf = LR()\n",
    "\n",
    "# обучаем выборку\n",
    "clf.fit(X_train, Y_train)\n",
    "# делаем \"предсказание\" по тестовой выборке \n",
    "prediction = clf.predict(X_test)\n",
    "# считаем среднеквадратичную ошибку\n",
    "accuracy = score(Y_test, prediction)\n",
    "\n",
    "print('Accuracy without f(x):', accuracy)"
   ]
  },
  {
   "cell_type": "markdown",
   "metadata": {},
   "source": [
    "Проведем несколько вспомогательных вычислений, чтобы получить представления о данных"
   ]
  },
  {
   "cell_type": "code",
   "execution_count": 36,
   "metadata": {
    "collapsed": false
   },
   "outputs": [
    {
     "name": "stdout",
     "output_type": "stream",
     "text": [
      "length of file: 517\n",
      "amount of zeros:  247  ->  47 %\n",
      "max value:  1090.84\n",
      "average value:  12.8472920696\n",
      "average value without zeros:  24.6001851852\n"
     ]
    }
   ],
   "source": [
    "# посчитаем количество нулевых значений в поле 'area'\n",
    "sum_zeros = 0\n",
    "sum_non_zeros_values = 0\n",
    "# пусть будет аккуратный цикл, он смотрится симпатичнее ещё одной строки\n",
    "for i in Y:\n",
    "    if (i == 0.0):\n",
    "        sum_zeros = sum_zeros + 1\n",
    "    else:\n",
    "        sum_non_zeros_values = sum_non_zeros_values + i\n",
    "\n",
    "# всего данных - длина файла        \n",
    "print('length of file:', len(data))\n",
    "# количество нулей (+ процент от всего числа данных)\n",
    "print('amount of zeros: ', sum_zeros, ' -> ', int(sum_zeros / len(data) * 100), '%')\n",
    "# максимальное значение\n",
    "print('max value: ', max(Y))\n",
    "# среднее значение\n",
    "print('average value: ', nmp.average(Y))\n",
    "# среднее значение без учета нулей\n",
    "print('average value without zeros: ', sum_non_zeros_values / (len(data) - sum_zeros))"
   ]
  },
  {
   "cell_type": "markdown",
   "metadata": {},
   "source": [
    "Подберем константу:\n",
    "* делаем преобраование поля 'area'\n",
    "* делаем все то же самое: обучаем выборку, применяем к тестовой выборке, считаем ошибку\n",
    "* сравниваем получившиеся результаты для разных констант\n",
    "* делаем выводы, с учетом пункта выше"
   ]
  },
  {
   "cell_type": "code",
   "execution_count": 37,
   "metadata": {
    "collapsed": false
   },
   "outputs": [
    {
     "name": "stdout",
     "output_type": "stream",
     "text": [
      "c = 0.1\n",
      "Accuracy: 5.12127622752\n",
      "c = 1\n",
      "Accuracy: 1.80964477931\n",
      "c = 10\n",
      "Accuracy: 0.422218461972\n",
      "c = 100\n",
      "Accuracy: 0.0580179169969\n",
      "c = 1000\n",
      "Accuracy: 0.00378963759346\n",
      "c = 10000\n",
      "Accuracy: 7.14129300998e-05\n"
     ]
    }
   ],
   "source": [
    "# функция для обработки данных при разных констаантах\n",
    "def try_const(c):\n",
    "    print('c =', c)\n",
    "    \n",
    "    # делаем преобразование данных\n",
    "    Y_train_transformed = nmp.log(Y_train + c)\n",
    "    Y_test_transformed = nmp.log(Y_test + c)\n",
    "    \n",
    "    # и все, как и для непреобразованных данных\n",
    "    clf.fit(X_train, Y_train_transformed)\n",
    "    prediction = clf.predict(X_test)\n",
    "    accuracy_transformed = score(Y_test_transformed, prediction)\n",
    "    \n",
    "    # вывод результатов\n",
    "    print('Accuracy:', accuracy_transformed)\n",
    "\n",
    "# выполняем функция для различных значений константы\n",
    "for c in [0.1, 1, 10, 100, 1000, 10000]:\n",
    "    try_const(c)"
   ]
  },
  {
   "cell_type": "markdown",
   "metadata": {},
   "source": [
    "Вывод:\n",
    "\n",
    "Значения поля \"area\" принимают довольно маленькие значения, так что достаточно большая константа просто поглощает значение поля и ошибка, сс возрастанием константы, становится все меньше. То есть большие значения $c$ использовать не стоит. Среднее значение \"area\" $= 13$, так что лучше всего взять $c = 1$, так как константа ещё не имеет существнного влияние на значение, но ошибка при этом существенно меньше. "
   ]
  },
  {
   "cell_type": "markdown",
   "metadata": {},
   "source": [
    "Определим, зависит ли качество от способа разбиения выборки:\n",
    "\n",
    "Попробуем для двух значений: $c = 0.1$ и $c = 1$"
   ]
  },
  {
   "cell_type": "code",
   "execution_count": 46,
   "metadata": {
    "collapsed": false
   },
   "outputs": [
    {
     "name": "stdout",
     "output_type": "stream",
     "text": [
      "attempt 1 : c =  1\n",
      "Accuracy: 2.68342721181\n",
      "attempt 2 : c =  1\n",
      "Accuracy: 2.08438184069\n",
      "attempt 3 : c =  1\n",
      "Accuracy: 2.25210367245\n",
      "attempt 4 : c =  1\n",
      "Accuracy: 1.70443614894\n",
      "attempt 5 : c =  1\n",
      "Accuracy: 1.83018421835\n",
      "\n",
      "attempt 6 : c =  0.1\n",
      "Accuracy: 9.44811217362\n",
      "attempt 7 : c =  0.1\n",
      "Accuracy: 9.83029099782\n",
      "attempt 8 : c =  0.1\n",
      "Accuracy: 5.81852638117\n",
      "attempt 9 : c =  0.1\n",
      "Accuracy: 6.15625643927\n",
      "attempt 10 : c =  0.1\n",
      "Accuracy: 5.70249083535\n"
     ]
    }
   ],
   "source": [
    "for i in range(1, 11):\n",
    "    if (i < 6):\n",
    "        c = 1\n",
    "    else:\n",
    "        if (i == 6):\n",
    "            print()\n",
    "        c = 0.1\n",
    "        \n",
    "    print('attempt', i, ': c = ', c) \n",
    "    #перемешиваем даннные\n",
    "    \n",
    "    X_train, X_test, Y_train, Y_test = train_test_split(X, Y, test_size = 0.3)  \n",
    "    # делаем преобразование данных\n",
    "    Y_train_transformed = nmp.log(Y_train + c)\n",
    "    Y_test_transformed = nmp.log(Y_test + c)\n",
    "    \n",
    "    # и все, как и для непреобрразованных данных\n",
    "    clf.fit(X_train, Y_train_transformed)\n",
    "    prediction = clf.predict(X_test)\n",
    "    accuracy_transformed = score(Y_test_transformed, prediction)\n",
    "    \n",
    "    # вывод результатов\n",
    "    print('Accuracy:', accuracy_transformed)"
   ]
  },
  {
   "cell_type": "markdown",
   "metadata": {},
   "source": [
    "Вывод: значения различаются, но не существенно, в диапазоне одного порядка."
   ]
  },
  {
   "cell_type": "code",
   "execution_count": null,
   "metadata": {
    "collapsed": true
   },
   "outputs": [],
   "source": []
  }
 ],
 "metadata": {
  "kernelspec": {
   "display_name": "Python 3",
   "language": "python",
   "name": "python3"
  },
  "language_info": {
   "codemirror_mode": {
    "name": "ipython",
    "version": 3
   },
   "file_extension": ".py",
   "mimetype": "text/x-python",
   "name": "python",
   "nbconvert_exporter": "python",
   "pygments_lexer": "ipython3",
   "version": "3.5.1"
  }
 },
 "nbformat": 4,
 "nbformat_minor": 0
}
