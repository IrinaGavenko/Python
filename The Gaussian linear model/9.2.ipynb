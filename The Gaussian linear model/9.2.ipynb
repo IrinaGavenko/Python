{
 "cells": [
  {
   "cell_type": "markdown",
   "metadata": {},
   "source": [
    "$ X = \\left (\\begin{array}{cccc}\n",
    "1 & 0 \\\\\n",
    "1 & 1 \\\\\n",
    "\\vdots& \\vdots \\\\\n",
    "1 & n\n",
    "\\end{array} \\right) \\cdot \n",
    "\\left  (\\begin{array}{cccc}\n",
    "\\beta_1 \\\\\n",
    "\\beta_2 \n",
    "\\end{array} \\right) + \n",
    "\\left (\\begin{array}{cccc}\n",
    "\\varepsilon_0 \\\\\n",
    "\\varepsilon_0 + \\varepsilon_1 \\\\\n",
    "\\vdots \\\\\n",
    "\\varepsilon_1 + \\ldots + \\varepsilon_n\n",
    "\\end{array} \\right)$\n",
    "\n",
    "$ Y = \\left (\\begin{array}{cccc}\n",
    "x_0 \\\\\n",
    "x_1 - x_0 \\\\\n",
    "\\vdots \\\\\n",
    "x_n - x_{n-1}\n",
    "\\end{array} \\right) = \\left (\\begin{array}{cccc}\n",
    "\\beta_1 + \\varepsilon_0 \\\\\n",
    "\\beta_2 + \\varepsilon_1 \\\\\n",
    "\\beta_1 + 2\\cdot \\beta_2 + \\varepsilon_0 + \\varepsilon_1 + \\varepsilon_2\n",
    "    -\\beta_1 - \\beta_2 - \\varepsilon_0 - \\varepsilon_1 \\\\\n",
    "\\vdots\n",
    "\\end{array} \\right) =$\n",
    "\n",
    "$ = \\left(\\begin{array}{cccc}\n",
    "\\beta_1 + \\varepsilon_0 \\\\\n",
    "\\beta_2 + \\varepsilon_1 \\\\\n",
    "\\beta_2 + \\varepsilon_2 \\\\\n",
    "\\vdots \\\\\n",
    "\\beta_2 + \\varepsilon_n\n",
    "\\end{array} \\right) = \\left(\\begin{array}{cccc}\n",
    "\\beta_1 \\\\\n",
    "\\beta_2 \\\\\n",
    "\\vdots \\\\\n",
    "\\beta_2\n",
    "\\end{array} \\right) + \\left(\\begin{array}{cccc}\n",
    "\\varepsilon_0 \\\\\n",
    "\\varepsilon_1 \\\\\n",
    "\\vdots \\\\\n",
    "\\varepsilon_n\n",
    "\\end{array} \\right) = \\left(\\begin{array}{cccc}\n",
    "1 & 0 \\\\\n",
    "0 & 1 \\\\\n",
    "0 & 1 \\\\\n",
    "\\vdots & \\vdots \\\\\n",
    "0 & 1\n",
    "\\end{array} \\right) \\cdot \\left(\\begin{array}{cccc}\n",
    "\\beta_1 \\\\\n",
    "\\beta_2\n",
    "\\end{array} \\right) + \\left(\\begin{array}{cccc}\n",
    "\\varepsilon_0 \\\\\n",
    "\\vdots \\\\\n",
    "\\varepsilon_n\n",
    "\\end{array} \\right)$\n",
    "\n",
    "$\\widehat{\\theta} = (Z^T\\cdot Z)^{-1} Z^T\\cdot Y$\n",
    "\n",
    "$Z^T\\cdot Z = \\left (\\begin{array}{cccc}\n",
    "1 & 0 \\\\\n",
    "0 & n\n",
    "\\end{array} \\right) \\Rightarrow (Z^T\\cdot Z)^{-1} =  \\left(\\begin{array}{cccc}\n",
    "1 & 0 \\\\\n",
    "0 & \\frac{1}{n}\n",
    "\\end{array} \\right)$\n",
    "\n",
    "$(Z^T\\cdot Z)^{-1}\\cdot Z^T = \\left (\\begin{array}{cccc}\n",
    "1 & 0 \\\\\n",
    "0 & \\frac{1}{n}\n",
    "\\end{array} \\right) \\cdot \\left (\\begin{array}{cccc}\n",
    "1 & 0 & \\ldots & 0 \\\\\n",
    "0 & 1 & \\ldots & 1\n",
    "\\end{array} \\right) = \\left(\\begin{array}{cccc}\n",
    "1 & 0 & \\ldots & 0 \\\\\n",
    "0 & \\frac{1}{n} & \\ldots & \\frac{1}{n}\n",
    "\\end{array} \\right)$\n",
    "\n",
    "$(Z^T\\cdot Z)^{-1}\\cdot Z \\cdot Y$ = $\\left(\\begin{array}{cccc}\n",
    "1 & 0 & \\ldots & 0 \\\\\n",
    "0 & \\frac{1}{n} & \\ldots & \\frac{1}{n}\n",
    "\\end{array} \\right) \\cdot \\left(\\begin{array}{cccc}\n",
    "x_0 \\\\\n",
    "\\frac{1}{n} \\cdot (x_1 - x_0 + x_2 - x_1 + \\ldots)\n",
    "\\end{array} \\right) = $\n",
    "\n",
    "$//(x_1 - x_0) + (x_2 - x_1) + (x_3 - x_2) + \\ldots + (x_n - x_{n - 1}) = x_n - x_0//$\n",
    "\n",
    "$ = \\left (\\begin{array}{cccc}\n",
    "x_0 \\\\\n",
    "\\frac{x_n - x_0}{n}\n",
    "\\end{array} \\right)$ - оценка  $\\left(\\begin{array}{cccc}\n",
    "\\beta_1 \\\\\n",
    "\\beta_2\n",
    "\\end{array} \\right)$"
   ]
  },
  {
   "cell_type": "code",
   "execution_count": 10,
   "metadata": {
    "collapsed": false
   },
   "outputs": [
    {
     "name": "stdout",
     "output_type": "stream",
     "text": [
      "[104.9407, 13.9189515]\n"
     ]
    }
   ],
   "source": [
    "import numpy as nmp\n",
    "import matplotlib.pyplot as plt\n",
    "import matplotlib.mlab as mlab\n",
    "import scipy.stats as sts\n",
    "%matplotlib inline\n",
    "\n",
    "# считываем данные\n",
    "regr_file = []\n",
    "file = open('Regression.csv', 'r')\n",
    "for list in file:\n",
    "    for value in list.split():\n",
    "        regr_file.append(float(value))\n",
    "\n",
    "size = len(regr_file) -1\n",
    "# подставляем данные в полученную формулу        \n",
    "estimate_beta = [regr_file[0], (regr_file[size] - regr_file[0]) / (size + 1)]\n",
    "print(estimate_beta)"
   ]
  },
  {
   "cell_type": "markdown",
   "metadata": {
    "collapsed": true
   },
   "source": [
    "$\\widehat{\\sigma^2} = \\frac{1}{(n+1) - k} \\cdot E || Y - Z \\cdot \\widehat{\\theta}||^2$ - \n",
    "несмещенная оценка квадрата дисперсии\n",
    "\n",
    "$\\sigma^2 = \\frac{1}{n-1} \\cdot E ||Y - Z\\cdot \\widehat{\\theta}||^2$\n",
    "\n",
    "$Z\\cdot \\widehat{\\theta} = \\left (\\begin{array}{cccc}\n",
    "1 & 0 \\\\\n",
    "0 & 1 \\\\\n",
    "\\vdots & \\vdots \\\\\n",
    "0 & 1\n",
    "\\end{array} \\right) \\cdot \\left (\\begin{array}{cccc}\n",
    "x_0 \\\\\n",
    "\\frac{x_n - x_0}{n}\n",
    "\\end{array} \\right) = \\left (\\begin{array}{cccc}\n",
    "x_0 \\\\\n",
    "\\frac{x_n - x_0}{n} \\\\\n",
    "\\vdots \\\\\n",
    "\\frac{x_n - x_0}{n}\n",
    "\\end{array} \\right)$\n",
    "\n",
    "$Y - Z\\widehat{\\theta} = \\left (\\begin{array}{cccc}\n",
    "x_0 \\\\\n",
    "x_1 - x_0 \\\\\n",
    "\\vdots \\\\\n",
    "x_n - x_{n-1}\n",
    "\\end{array} \\right) - \\left (\\begin{array}{cccc}\n",
    "x_0 \\\\\n",
    "\\frac{x_n - x_0}{n} \\\\\n",
    "\\vdots \\\\\n",
    "\\frac{x_n - x_0}{n}\n",
    "\\end{array} \\right) = \\left (\\begin{array}{cccc}\n",
    "0 \\\\\n",
    "x_1 - \\frac{x_n}{n} - x_0\\cdot \\frac{n-1}{n} \\\\\n",
    "x_2 - x_1 - \\frac{x_n}{n} - \\frac{x_0}{n} \\\\\n",
    "\\vdots \\\\\n",
    "x_n - x_{n-1} - \\frac{x_n}{n} + \\frac{x_0}{n}\n",
    "\\end{array} \\right)$\n",
    "\n",
    "$||Y - Z \\cdot \\widehat{\\theta}||^2 = $\n",
    "\n",
    "$ = 0 + (x_1 - x_0 - \\frac{x_n - x_0}{n})^2 + \n",
    "    \\ldots + (x_n - x_{n-1} - \\frac{x_n-x_0}{n})^2 = $\n",
    " \n",
    "$ = (x_1 - x_0)^2 + \\ldots + (x_n - x_{n-1})^2 - \n",
    "    2\\cdot (x_1 - x_0)\\cdot \\frac{x_n - x_0}{n} - \\ldots - 2\\cdot (x_n - x_{n-1}) \\cdot \\frac{x_n - x_0}{n} +\n",
    "    n\\cdot \\frac{(x_n - x_0)^2}{n} = $\n",
    "    \n",
    "$ = (x_1 - x_0)^2 + \\ldots + (x_n - x_{n-1})^2 - \\frac{(x_n - x_0)^2}{n}$\n",
    " \n",
    "$\\Rightarrow \\widehat{\\sigma^2} = \\frac{1}{n-1}(\\sum_{i=1}^n (x_i - x_{i-1}) - \\frac{(x_n - x_0)}{n})^2$\n",
    "\n",
    "$\\Rightarrow \\widehat{\\sigma_t^2} = \\frac{\\widehat{\\sigma^2}}{\\widehat{\\beta_2}^2}$"
   ]
  },
  {
   "cell_type": "code",
   "execution_count": 9,
   "metadata": {
    "collapsed": false
   },
   "outputs": [
    {
     "name": "stdout",
     "output_type": "stream",
     "text": [
      "2.1961605300186466\n",
      "0.011335770347251448\n"
     ]
    }
   ],
   "source": [
    "_sum = 0\n",
    "# считаем сумму\n",
    "for i in range(1, len(regr_file)):\n",
    "    _sum = _sum + (regr_file[i] - regr_file[i - 1] - \n",
    "                   (regr_file[i] - regr_file[0]) / i)  ** 2\n",
    "\n",
    "# подставляем значения в формулу\n",
    "estimate_sigma = 1 / size * _sum\n",
    "print(estimate_sigma)\n",
    "\n",
    "# подставляем знаечения в следующую формулу\n",
    "estimate_sigma_t  = estimate_sigma / (estimate_beta[1] ** 2)\n",
    "print(estimate_sigma_t)"
   ]
  },
  {
   "cell_type": "markdown",
   "metadata": {
    "collapsed": true
   },
   "source": [
    "Вывод:\n",
    "\n",
    "$\\beta_1 = X_0 = 104.9407$\n",
    "\n",
    "$\\beta_2 = \\frac{X_n - X_0}{n} = 13.9189515$\n",
    "\n",
    "$\\widehat{\\sigma^2} = \\frac{1}{n - 1} \\cdot (\\sum^n_{i=1} (X_i - X_{i - 1}) - \\frac{(X_n - X_0)}{n})^2 = 2.1961605300186466$\n",
    "\n",
    "$\\widehat{\\sigma^2_t} = \\frac{\\widehat{\\sigma^2}}{\\widehat{\\beta_2}^2} = 0.011335770347251448$"
   ]
  },
  {
   "cell_type": "markdown",
   "metadata": {
    "collapsed": true
   },
   "source": [
    "Можно сделать вывод, что для данной выборки линейная модель подходит. Это можно объяснить тем, что движение трамва близко к равномерному. Соответственно, можно соответствующим образом оценить скорость $\\beta_1$. $\\beta_2$ - это оценка начального расстояния, и она совпадает с показанием датчика в нулевой момент времени."
   ]
  },
  {
   "cell_type": "code",
   "execution_count": null,
   "metadata": {
    "collapsed": true
   },
   "outputs": [],
   "source": []
  }
 ],
 "metadata": {
  "kernelspec": {
   "display_name": "Python 3",
   "language": "python",
   "name": "python3"
  },
  "language_info": {
   "codemirror_mode": {
    "name": "ipython",
    "version": 3
   },
   "file_extension": ".py",
   "mimetype": "text/x-python",
   "name": "python",
   "nbconvert_exporter": "python",
   "pygments_lexer": "ipython3",
   "version": "3.5.1"
  }
 },
 "nbformat": 4,
 "nbformat_minor": 0
}
