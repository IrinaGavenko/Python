{
 "cells": [
  {
   "cell_type": "code",
   "execution_count": 2,
   "metadata": {
    "collapsed": false
   },
   "outputs": [
    {
     "name": "stderr",
     "output_type": "stream",
     "text": [
      "/opt/conda/lib/python3.4/site-packages/ipykernel/__main__.py:93: RuntimeWarning: overflow encountered in double_scalars\n",
      "/opt/conda/lib/python3.4/site-packages/ipykernel/__main__.py:92: RuntimeWarning: overflow encountered in double_scalars\n"
     ]
    },
    {
     "data": {
      "image/png": "[encoded data removed]",
      "text/plain": [
       "<matplotlib.figure.Figure at 0x7f2169324780>"
      ]
     },
     "metadata": {},
     "output_type": "display_data"
    },
    {
     "data": {
      "image/png": "[encoded data removed]",
      "text/plain": [
       "<matplotlib.figure.Figure at 0x7f213ba5a9b0>"
      ]
     },
     "metadata": {},
     "output_type": "display_data"
    },
    {
     "name": "stdout",
     "output_type": "stream",
     "text": [
      "Как видно из графиков, лучшая оценка при k = 150\n"
     ]
    }
   ],
   "source": [
    "import numpy as nmp\n",
    "import scipy as scp\n",
    "import math\n",
    "import random\n",
    "import matplotlib.pyplot as plt\n",
    "#import sympy as sy\n",
    "from sympy import Symbol\n",
    "%matplotlib inline \n",
    "\n",
    "# напишем функцию, которая считает факториал\n",
    "def fac(n):\n",
    "     if n == 0:\n",
    "          return 1\n",
    "     return fac(n - 1) * n\n",
    "\n",
    "N = 10000\n",
    "Axis_x = nmp.arange(1, N + 1, 1)\n",
    "\n",
    "# зададим функцию, кторая будем выводить графики\n",
    "def line_options(arg1, arg2, arg3, arg4, arg5, arg6, arg7, arg8, arg9, arg10):\n",
    "    plt.plot(Axis_x, arg1, '-b', label = \"k = 1\")\n",
    "    plt.plot(Axis_x, arg2, '-c', label = \"k = 5\")\n",
    "    plt.plot(Axis_x, arg3, '-g', label = \"k = 10\")\n",
    "    plt.plot(Axis_x, arg4, '-k', label = \"k = 20\")\n",
    "    plt.plot(Axis_x, arg5, '-b', label = \"k = 50\")\n",
    "    plt.plot(Axis_x, arg6, '-m', label = \"k = 70\")\n",
    "    plt.plot(Axis_x, arg7, '-r', label = \"k = 90\")\n",
    "    plt.plot(Axis_x, arg8, '-c', label = \"k = 100\")\n",
    "    plt.plot(Axis_x, arg9, '-y', label = \"k = 120\")\n",
    "    plt.plot(Axis_x, arg10, '-r', label = \"k = 150\")\n",
    "\n",
    "# создадим выорки из экспоненциального распределения с разными параметрами\n",
    "X1 = nmp.random.exponential(1, N)\n",
    "X2 = nmp.random.exponential(5, N)\n",
    "X3 = nmp.random.exponential(10, N)\n",
    "X4 = nmp.random.exponential(20, N)\n",
    "X5 = nmp.random.exponential(50, N)\n",
    "X6 = nmp.random.exponential(70, N)\n",
    "X7 = nmp.random.exponential(90, N)\n",
    "X8 = nmp.random.exponential(100, N)\n",
    "X9 = nmp.random.exponential(120, N)\n",
    "X10 = nmp.random.exponential(150, N)\n",
    "\n",
    "# \n",
    "arg1 = nmp.empty(N)\n",
    "arg2 = nmp.empty(N)\n",
    "arg3 = nmp.empty(N)\n",
    "arg4 = nmp.empty(N)\n",
    "arg5 = nmp.empty(N)\n",
    "arg6 = nmp.empty(N)\n",
    "arg7 = nmp.empty(N)\n",
    "arg8 = nmp.empty(N)\n",
    "arg9 = nmp.empty(N)\n",
    "arg10 = nmp.empty(N)\n",
    "\n",
    "index = 0\n",
    "\n",
    "#\n",
    "k1 = 1\n",
    "k2 = 5\n",
    "k3 = 10\n",
    "k4 = 20\n",
    "k5 = 50\n",
    "k6 = 70\n",
    "k7 = 90\n",
    "k8 = 100\n",
    "k9 = 120\n",
    "k10 = 150\n",
    "\n",
    "#\n",
    "Sumn1 = 0\n",
    "Sumn2 = 0\n",
    "Sumn3 = 0\n",
    "Sumn4 = 0\n",
    "Sumn5 = 0\n",
    "Sumn6 = 0\n",
    "Sumn7 = 0\n",
    "Sumn8 = 0\n",
    "Sumn9 = 0\n",
    "Sumn10 = 0\n",
    "\n",
    "# посчитаем оценку параметра\n",
    "for n in range(1, N):\n",
    "    Sumn1 = Sumn1 + X1[index]\n",
    "    Sumn2 = Sumn2 + X2[index] ** k2\n",
    "    Sumn3 = Sumn3 + X3[index] ** k3\n",
    "    Sumn4 = Sumn4 + X4[index] ** k4\n",
    "    Sumn5 = Sumn5 + X5[index] ** k5\n",
    "    Sumn6 = Sumn6 + X6[index] ** k6\n",
    "    Sumn7 = Sumn7 + X7[index] ** k7\n",
    "    Sumn8 = Sumn8 + X8[index] ** k8\n",
    "    Sumn9 = Sumn9 + X9[index] ** k9\n",
    "    Sumn10 = Sumn10 + X10[index] ** k10\n",
    "    \n",
    "    arg1[index] = (Sumn1 / n)\n",
    "    arg2[index] = (fac(k2) / (Sumn2 / n)) ** (1 / k2)\n",
    "    arg3[index] = (fac(k3) / (Sumn3 / n)) ** (1 / k3)\n",
    "    arg4[index] = (fac(k4) / (Sumn4 / n)) ** (1 / k4)\n",
    "    arg5[index] = (fac(k5) / (Sumn5 / n)) ** (1 / k5)\n",
    "    arg6[index] = (fac(k6) / (Sumn6 / n)) ** (1 / k6)\n",
    "    arg7[index] = (fac(k7) / (Sumn7 / n)) ** (1 / k7)\n",
    "    arg8[index] = (fac(k8) / (Sumn8 / n)) ** (1 / k8)\n",
    "    arg9[index] = (fac(k9) / (Sumn9 / n)) ** (1 / k9)\n",
    "    arg10[index] = (fac(k10) / (Sumn10 / n)) ** (1 / k10)\n",
    "    \n",
    "    index = index + 1\n",
    "\n",
    "# выведем  общий график\n",
    "plt.figure(figsize = (10, 5))\n",
    "plt.subplot(2,1,1)\n",
    "plt.axis([N * 0.5, N, -0.01, 0.22]) \n",
    "line_options(arg1, arg2, arg3, arg4, arg5, arg6, arg7, arg8, arg9, arg10)\n",
    "plt.legend(bbox_to_anchor = (1.05, 1), loc = 2, borderaxespad = 0.)\n",
    "plt.show()\n",
    "\n",
    "# приблизим к основному скоплению линий графиков\n",
    "plt.figure(figsize = (10, 5))\n",
    "plt.subplot(2,1,1)\n",
    "plt.axis([N * 0.5, N, -0.01, 0.1]) \n",
    "line_options(arg1, arg2, arg3, arg4, arg5, arg6, arg7, arg8, arg9, arg10)\n",
    "plt.legend(bbox_to_anchor = (1.05, 1), loc = 2, borderaxespad = 0.)\n",
    "plt.show()\n",
    "\n",
    "# сделаем вывод\n",
    "print(\"Как видно из графиков, лучшая оценка при k = 150\")\n",
    "    "
   ]
  },
  {
   "cell_type": "code",
   "execution_count": null,
   "metadata": {
    "collapsed": true
   },
   "outputs": [],
   "source": []
  }
 ],
 "metadata": {
  "kernelspec": {
   "display_name": "Python 3",
   "language": "python",
   "name": "python3"
  },
  "language_info": {
   "codemirror_mode": {
    "name": "ipython",
    "version": 3
   },
   "file_extension": ".py",
   "mimetype": "text/x-python",
   "name": "python",
   "nbconvert_exporter": "python",
   "pygments_lexer": "ipython3",
   "version": "3.4.3"
  }
 },
 "nbformat": 4,
 "nbformat_minor": 0
}
