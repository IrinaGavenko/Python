{
 "cells": [
  {
   "cell_type": "code",
   "execution_count": 5,
   "metadata": {
    "collapsed": false
   },
   "outputs": [
    {
     "ename": "IOError",
     "evalue": "[Errno 2] No such file or directory: 'Weibull.scv'",
     "output_type": "error",
     "traceback": [
      "\u001b[1;31m---------------------------------------------------------------------------\u001b[0m",
      "\u001b[1;31mIOError\u001b[0m                                   Traceback (most recent call last)",
      "\u001b[1;32m<ipython-input-5-f166cc52abd0>\u001b[0m in \u001b[0;36m<module>\u001b[1;34m()\u001b[0m\n\u001b[0;32m      9\u001b[0m \u001b[0mdoc\u001b[0m \u001b[1;33m=\u001b[0m \u001b[1;33m[\u001b[0m\u001b[1;33m]\u001b[0m\u001b[1;33m\u001b[0m\u001b[0m\n\u001b[0;32m     10\u001b[0m \u001b[1;33m\u001b[0m\u001b[0m\n\u001b[1;32m---> 11\u001b[1;33m \u001b[0mfile\u001b[0m \u001b[1;33m=\u001b[0m \u001b[0mopen\u001b[0m\u001b[1;33m(\u001b[0m\u001b[1;34m'Weibull.scv'\u001b[0m\u001b[1;33m,\u001b[0m \u001b[1;34m'r'\u001b[0m\u001b[1;33m)\u001b[0m\u001b[1;33m\u001b[0m\u001b[0m\n\u001b[0m\u001b[0;32m     12\u001b[0m \u001b[1;32mfor\u001b[0m \u001b[0mlist\u001b[0m \u001b[1;32min\u001b[0m \u001b[0mfile\u001b[0m\u001b[1;33m:\u001b[0m\u001b[1;33m\u001b[0m\u001b[0m\n\u001b[0;32m     13\u001b[0m     \u001b[1;32mfor\u001b[0m \u001b[0mvalue\u001b[0m \u001b[1;32min\u001b[0m \u001b[0mline\u001b[0m\u001b[1;33m.\u001b[0m\u001b[0msplit\u001b[0m\u001b[1;33m(\u001b[0m\u001b[1;33m)\u001b[0m\u001b[1;33m:\u001b[0m\u001b[1;33m\u001b[0m\u001b[0m\n",
      "\u001b[1;31mIOError\u001b[0m: [Errno 2] No such file or directory: 'Weibull.scv'"
     ]
    }
   ],
   "source": [
    "import numpy as nmp\n",
    "import scipy as scp\n",
    "import math\n",
    "import matplotlib.pyplot as plt\n",
    "#import sympy as sy\n",
    "from sympy import Symbol\n",
    "%matplotlib inline\n",
    "\n",
    "doc = []\n",
    "\n",
    "# открываем файл и считываем данные\n",
    "file = open('Weibull.scv', 'r')\n",
    "for list in file:\n",
    "    for value in line.split():\n",
    "        data.append(float(value))\n",
    "\n",
    "size = len(file)\n",
    "Axis_x = nmp.arange(-2, 2, 0.001)\n",
    "func = [0.0] * size\n",
    "\n",
    "# расчитываем логарифмическую функцию для первых 4 лет (365 * 4 + 1)\n",
    "for i in range(size):\n",
    "    X2 = doc[i]\n",
    "    for X1 in doc[0:1461]:\n",
    "        func[i] = func[i] - math.log(1 - math.exp(-1 * X1 ** func[i]))\n",
    "    func[i] = abs(func[i])\n",
    "\n",
    "# выводим график\n",
    "plt.plot(Axis_x, func)\n",
    "plt.title(\"N = 1461 (4 years) : large scale\")\n",
    "plt.grid()\n",
    "plt.show()\n",
    "\n",
    "# считаем логарифмическую функцию для всех строк файла (10 лет)\n",
    "for i in range(size):\n",
    "    X2 = doc[i]\n",
    "    for X1 in range(1, size):\n",
    "        func[i] = func[i] - math.log(1 - math.exp(-1 * X1 ** func[i]))\n",
    "    func[i] = abs(func[i])\n",
    "\n",
    "# выводим график\n",
    "plt.plot(Axis_x, func)\n",
    "plt.title(\"N = 3652 (10 years) : large scale\")\n",
    "plt.grid()\n",
    "plt.show()\n",
    "\n",
    "# приблизим к искомой точке\n",
    "#plt.plot(Axis_x, func)\n",
    "#plt.title(\"N = 3652 (10 years) : small scale\")\n",
    "#plt.set_xlim([])\n",
    "#plt.grid()\n",
    "#plt.show()\n",
    "\n",
    "#plt.plot(Axis_x, func)\n",
    "#plt.title(\"N = 3652 (10 years) : small scale\")\n",
    "#plt.set_xlim([])\n",
    "#plt.grid()\n",
    "#plt.show()\n",
    "\n",
    "# закрываем файл и печатаем заключение\n",
    "file.close()\n",
    "print(\"\")\n",
    "print(\"ok\")"
   ]
  },
  {
   "cell_type": "code",
   "execution_count": null,
   "metadata": {
    "collapsed": true
   },
   "outputs": [],
   "source": []
  }
 ],
 "metadata": {
  "kernelspec": {
   "display_name": "Python 2",
   "language": "python",
   "name": "python2"
  },
  "language_info": {
   "codemirror_mode": {
    "name": "ipython",
    "version": 2
   },
   "file_extension": ".py",
   "mimetype": "text/x-python",
   "name": "python",
   "nbconvert_exporter": "python",
   "pygments_lexer": "ipython2",
   "version": "2.7.10"
  },
  "name": "2016-03-09-232204.ipynb"
 },
 "nbformat": 4,
 "nbformat_minor": 0
}
